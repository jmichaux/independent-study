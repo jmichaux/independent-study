{
 "cells": [
  {
   "cell_type": "code",
   "execution_count": 1,
   "metadata": {},
   "outputs": [],
   "source": [
    "from copy import deepcopy\n",
    "from collections import defaultdict\n",
    "from pprint import pprint\n",
    "import sys\n",
    "if \"../\" not in sys.path:\n",
    "    sys.path.append(\"../\") \n",
    "\n",
    "import numpy as np\n",
    "from envs.classic_gridworld import *"
   ]
  },
  {
   "cell_type": "code",
   "execution_count": 2,
   "metadata": {},
   "outputs": [],
   "source": [
    "def policy_evaluation(policy, env, gamma=1., theta=1e-5):\n",
    "    V = np.zeros(env.nS)\n",
    "    while True:\n",
    "        delta = 0\n",
    "        for state in range(env.nS):\n",
    "            v = 0\n",
    "            # enumerate over possible actions specified by the policy\n",
    "            for action, action_prob in enumerate(policy[state]):\n",
    "                # enumerate over next possible states\n",
    "                for prob, next_state, reward, done in env.P[state][action]:\n",
    "                    v += action_prob *  prob * (reward + gamma * V[next_state])\n",
    "            delta = max(delta, np.abs(v - V[state]))\n",
    "            V[state] = v\n",
    "        if delta < theta:\n",
    "            break\n",
    "    return V"
   ]
  },
  {
   "cell_type": "markdown",
   "metadata": {},
   "source": [
    "# 3x4 Gridworld"
   ]
  },
  {
   "cell_type": "code",
   "execution_count": 3,
   "metadata": {},
   "outputs": [],
   "source": [
    "env = ClassicGridEnv3x4()\n",
    "optimal_3x4_policy = np.array([\n",
    "    [0.0, 0.0, 1.0, 0.0],\n",
    "    [0.0, 0.0, 1.0, 0.0],\n",
    "    [0.0, 0.0, 1.0, 0.0],\n",
    "    [0.0, 0.0, 1.0, 0.0],\n",
    "    [0.0, 0.0, 0.0, 1.0],\n",
    "    [0.0, 0.0, 0.0, 1.0],\n",
    "    [0.0, 0.0, 0.0, 1.0],\n",
    "    [0.0, 0.0, 0.0, 1.0],\n",
    "    [0.0, 0.0, 0.0, 1.0],\n",
    "    [1.0, 0.0, 0.0, 0.0],\n",
    "    [1.0, 0.0, 0.0, 0.0],\n",
    "    [1.0, 0.0, 0.0, 0.0],\n",
    "])\n",
    "# policy_evaluation(optimal_3x4_policy, env, gamma=0.9)"
   ]
  },
  {
   "cell_type": "code",
   "execution_count": 27,
   "metadata": {},
   "outputs": [
    {
     "name": "stdout",
     "output_type": "stream",
     "text": [
      "0.1 7 -1.0\n",
      "0.8 2 0.0\n",
      "0.1 6 0.0\n"
     ]
    },
    {
     "data": {
      "text/plain": [
       "0.42840000000000006"
      ]
     },
     "execution_count": 27,
     "metadata": {},
     "output_type": "execute_result"
    }
   ],
   "source": [
    "V = np.zeros(env.nS)\n",
    "V[3] = 1\n",
    "V[7] = -1\n",
    "V[2] = 0.72\n",
    "v = 0\n",
    "gamma = 0.9\n",
    "for prob, next_state, reward, done in env.P[6][3]:\n",
    "    print(prob, next_state, reward)\n",
    "    v += prob * (gamma * V[next_state] )\n",
    "v"
   ]
  },
  {
   "cell_type": "code",
   "execution_count": 15,
   "metadata": {},
   "outputs": [
    {
     "data": {
      "text/plain": [
       "{0: [(0.1, 2, 0.0, False), (0.8, 1, 0.0, False), (0.1, 6, 0.0, False)],\n",
       " 1: [(0.1, 1, 0.0, False), (0.8, 6, 0.0, False), (0.1, 3, 1.0, True)],\n",
       " 2: [(0.1, 6, 0.0, False), (0.8, 3, 1.0, True), (0.1, 2, 0.0, False)],\n",
       " 3: [(0.1, 3, 1.0, True), (0.8, 2, 0.0, False), (0.1, 1, 0.0, False)]}"
      ]
     },
     "execution_count": 15,
     "metadata": {},
     "output_type": "execute_result"
    }
   ],
   "source": [
    "env.P[2]"
   ]
  },
  {
   "cell_type": "code",
   "execution_count": null,
   "metadata": {},
   "outputs": [],
   "source": [
    "0.8 * 0.9 + 0.1 * 0.8 *"
   ]
  },
  {
   "cell_type": "code",
   "execution_count": 4,
   "metadata": {},
   "outputs": [
    {
     "name": "stdout",
     "output_type": "stream",
     "text": [
      "State 3: Goal\n",
      "{0: [(1.0, 3, 0, True)],\n",
      " 1: [(1.0, 3, 0, True)],\n",
      " 2: [(1.0, 3, 0, True)],\n",
      " 3: [(1.0, 3, 0, True)]}\n",
      "\n",
      "State 7: Pit\n",
      "{0: [(1.0, 7, 0, True)],\n",
      " 1: [(1.0, 7, 0, True)],\n",
      " 2: [(1.0, 7, 0, True)],\n",
      " 3: [(1.0, 7, 0, True)]}\n",
      "\n",
      "State 5: Obstacle\n",
      "{0: [(0.0, 5, 0, False)],\n",
      " 1: [(0.0, 5, 0, False)],\n",
      " 2: [(0.0, 5, 0, False)],\n",
      " 3: [(0.0, 5, 0, False)]}\n"
     ]
    }
   ],
   "source": [
    "print('State 3: Goal')\n",
    "pprint(env.P[3])\n",
    "print()\n",
    "print('State 7: Pit')\n",
    "pprint(env.P[7])\n",
    "print()\n",
    "print('State 5: Obstacle')\n",
    "pprint(env.P[5])"
   ]
  },
  {
   "cell_type": "code",
   "execution_count": 5,
   "metadata": {},
   "outputs": [
    {
     "data": {
      "text/plain": [
       "{0: [(1.0, 7, 0, True)],\n",
       " 1: [(1.0, 7, 0, True)],\n",
       " 2: [(1.0, 7, 0, True)],\n",
       " 3: [(1.0, 7, 0, True)]}"
      ]
     },
     "execution_count": 5,
     "metadata": {},
     "output_type": "execute_result"
    }
   ],
   "source": [
    "env.P[7]"
   ]
  },
  {
   "cell_type": "markdown",
   "metadata": {},
   "source": [
    "# 4x4 Gridworld"
   ]
  },
  {
   "cell_type": "code",
   "execution_count": 6,
   "metadata": {},
   "outputs": [
    {
     "name": "stdout",
     "output_type": "stream",
     "text": [
      "0\n",
      "0\n",
      "0\n",
      "0\n",
      "15\n",
      "15\n",
      "15\n",
      "15\n",
      "State 3\n",
      "{0: [(1.0, 2, -1.0, False)],\n",
      " 1: [(1.0, 7, -1.0, False)],\n",
      " 2: [(1.0, 3, -1.0, False)],\n",
      " 3: [(1.0, 3, -1.0, False)]}\n",
      "Goal\n",
      "{0: [(1.0, 0, 0, True)],\n",
      " 1: [(1.0, 0, 0, True)],\n",
      " 2: [(1.0, 0, 0, True)],\n",
      " 3: [(1.0, 0, 0, True)]}\n"
     ]
    },
    {
     "name": "stderr",
     "output_type": "stream",
     "text": [
      "../envs/classic_gridworld.py:80: RuntimeWarning: invalid value encountered in true_divide\n",
      "  isd /= isd.sum()\n",
      "/home/jonathan/anaconda3/envs/rl/lib/python3.5/site-packages/gym/envs/toy_text/discrete.py:13: RuntimeWarning: invalid value encountered in greater\n",
      "  return (csprob_n > np_random.rand()).argmax()\n"
     ]
    }
   ],
   "source": [
    "# create environment\n",
    "env = ClassicGridEnv4x4()\n",
    "\n",
    "env.reset()\n",
    "# look at environment dynamics\n",
    "print('State 3')\n",
    "pprint(env.P[3])\n",
    "print('Goal')\n",
    "pprint(env.P[0])"
   ]
  },
  {
   "cell_type": "code",
   "execution_count": 9,
   "metadata": {},
   "outputs": [
    {
     "data": {
      "text/plain": [
       "array([[  0.        , -12.99993311, -18.99990384, -20.99989416],\n",
       "       [-12.99993311, -16.99991792, -18.99991088, -18.9999119 ],\n",
       "       [-18.99990384, -18.99991088, -16.9999248 , -12.99994386],\n",
       "       [-20.99989416, -18.9999119 , -12.99994386,   0.        ]])"
      ]
     },
     "execution_count": 9,
     "metadata": {},
     "output_type": "execute_result"
    }
   ],
   "source": [
    "random_policy = np.ones([env.nS, env.nA]) / env.nA\n",
    "policy_evaluation(random_policy, env).reshape((4,4))"
   ]
  },
  {
   "cell_type": "markdown",
   "metadata": {},
   "source": [
    "# 5x4 Gridworld"
   ]
  },
  {
   "cell_type": "code",
   "execution_count": null,
   "metadata": {},
   "outputs": [],
   "source": [
    "env = ClassicGridEnv5x4Static()\n",
    "random_policy = np.ones([env.nS, env.nA]) / env.nA\n",
    "pprint(policy_evaluation(random_policy, env))"
   ]
  },
  {
   "cell_type": "code",
   "execution_count": null,
   "metadata": {},
   "outputs": [],
   "source": [
    "print('State 12')\n",
    "pprint(env.P[12])\n",
    "print('State 13')\n",
    "pprint(env.P[13])\n",
    "print('State 17')\n",
    "pprint(env.P[17])"
   ]
  },
  {
   "cell_type": "code",
   "execution_count": null,
   "metadata": {},
   "outputs": [],
   "source": [
    "env = ClassicGridEnv5x4Dynamic()\n",
    "random_policy = np.ones([env.nS, env.nA]) / env.nA\n",
    "policy_evaluation(random_policy, env)\n"
   ]
  },
  {
   "cell_type": "code",
   "execution_count": null,
   "metadata": {},
   "outputs": [],
   "source": [
    "print('State 12')\n",
    "pprint(env.P[12])\n",
    "print('State 13')\n",
    "pprint(env.P[13])\n",
    "print('State 17')\n",
    "pprint(env.P[17])"
   ]
  },
  {
   "cell_type": "code",
   "execution_count": 11,
   "metadata": {},
   "outputs": [
    {
     "data": {
      "text/plain": [
       "0.7040000000000001"
      ]
     },
     "execution_count": 11,
     "metadata": {},
     "output_type": "execute_result"
    }
   ],
   "source": [
    "0.8*(-0.02 + 0.9 *1)"
   ]
  },
  {
   "cell_type": "code",
   "execution_count": 30,
   "metadata": {},
   "outputs": [
    {
     "name": "stdout",
     "output_type": "stream",
     "text": [
      "0\n",
      "1\n",
      "2\n",
      "3\n",
      "4\n",
      "5\n",
      "7\n",
      "8\n",
      "9\n"
     ]
    }
   ],
   "source": [
    "for i in range(10):\n",
    "    if i == 6:\n",
    "        continue\n",
    "    print(i)\n"
   ]
  },
  {
   "cell_type": "code",
   "execution_count": null,
   "metadata": {},
   "outputs": [],
   "source": []
  }
 ],
 "metadata": {
  "kernelspec": {
   "display_name": "Python 3",
   "language": "python",
   "name": "python3"
  },
  "language_info": {
   "codemirror_mode": {
    "name": "ipython",
    "version": 3
   },
   "file_extension": ".py",
   "mimetype": "text/x-python",
   "name": "python",
   "nbconvert_exporter": "python",
   "pygments_lexer": "ipython3",
   "version": "3.5.2"
  }
 },
 "nbformat": 4,
 "nbformat_minor": 2
}
