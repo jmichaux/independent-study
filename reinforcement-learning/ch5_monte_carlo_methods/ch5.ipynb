{
 "cells": [
  {
   "cell_type": "code",
   "execution_count": 289,
   "metadata": {
    "collapsed": true
   },
   "outputs": [],
   "source": [
    "import copy\n",
    "import itertools\n",
    "import numpy as np"
   ]
  },
  {
   "cell_type": "code",
   "execution_count": 337,
   "metadata": {
    "collapsed": true
   },
   "outputs": [],
   "source": [
    "class Player(object):\n",
    "    def __init__(self):\n",
    "        self.hand = []\n",
    "        self.usable_ace = 0\n",
    "        self.showing = 0\n",
    "        self.reward = 0\n",
    "        \n",
    "\n",
    "class BlackJack(object):\n",
    "    def __init__(self, N=10000):\n",
    "        self.deck = [1, 2, 3, 4, 5, 6, 7, 8, 9, 10, 10, 10, 10]\n",
    "        self.hands = list(itertools.product(self.deck[:10], self.deck[:10]))\n",
    "        self.returns = {0: [[0] * 10] * 10,\n",
    "                       1: [[0] * 10] * 10}\n",
    "        self.score = {0: [[0] * 10] * 10,\n",
    "                       1: [[0] * 10] * 10}\n",
    "        self.N = N\n",
    "             \n",
    "    def reset(self):\n",
    "        self.dealer = Player()\n",
    "        self.player = Player()\n",
    "        \n",
    "    def draw_card(self):\n",
    "        \"\"\"Deals one card from the deck with replacement.\"\"\"\n",
    "        return np.random.choice(self.deck)\n",
    "    \n",
    "    def draw_hand(self):\n",
    "        \"\"\"Deals hand.\"\"\"\n",
    "        return [self.draw_card(), self.draw_card()]\n",
    "    \n",
    "    def sum_hand(self, hand):\n",
    "        if self.is_usable(hand): \n",
    "            return sum(hand) + 10\n",
    "        return sum(hand)\n",
    "    \n",
    "    def is_natural(self, hand):\n",
    "        return sorted(hand) == [1, 10]\n",
    "    \n",
    "    def is_usable(self, hand):\n",
    "        return 1 in hand and sum(hand) + 10 <= 21\n",
    "        \n",
    "    def is_bust(self, hand):\n",
    "        if self.sum_hand(hand) > 21:\n",
    "            return True\n",
    "        \n",
    "    def play_hand(self, hand=None):\n",
    "        # dealer cards\n",
    "        self.dealer.hand = self.draw_hand()\n",
    "        \n",
    "        # player cards\n",
    "        if hand is not None:\n",
    "            self.player.hand = copy.copy(hand)\n",
    "        else:\n",
    "            self.player.hand = self.draw_hand()\n",
    "            \n",
    "        self.player.showing = self.dealer.hand[1]\n",
    "                \n",
    "        # draw player cards \n",
    "        while self.sum_hand(self.player.hand) < 20:\n",
    "            self.player.hand.append(self.draw_card())      \n",
    "        \n",
    "        # draw dealer cards\n",
    "        while self.sum_hand(self.dealer.hand) < 17:\n",
    "            self.dealer.hand.append(self.draw_card())      \n",
    "               \n",
    "        # check if player has usable ace\n",
    "        if self.is_usable(self.player.hand):\n",
    "            self.player.usable_ace = 1\n",
    "            \n",
    "        # calculate reward\n",
    "        if self.is_bust(self.player.hand):\n",
    "            self.player.reward = -1\n",
    "            \n",
    "        elif self.is_bust(self.dealer.hand):\n",
    "            self.player.reward = 1\n",
    "            \n",
    "        elif self.sum_hand(self.player.hand) < self.sum_hand(self.dealer.hand):\n",
    "            self.player.reward = -1\n",
    "            \n",
    "        elif self.sum_hand(self.player.hand) == self.sum_hand(self.dealer.hand):\n",
    "            self.player.reward = 0\n",
    "            \n",
    "        elif self.sum_hand(self.player.hand) > self.sum_hand(self.dealer.hand):\n",
    "            self.player.reward = 1\n",
    "            \n",
    "        return self.sum_hand(self.player.hand), self.player.usable_ace, self.player.showing, self.player.reward\n",
    "            \n",
    "    def simulate(self):\n",
    "        for hand in self.hands:\n",
    "            hand = list(hand)\n",
    "            rewards = [[0] * 31] * 10\n",
    "            for i in range(self.N):\n",
    "                self.reset()\n",
    "                score, has_ace, showing, reward = self.play_hand(hand)\n",
    "                rewards[showing-1][score] +=reward\n",
    "#                 print(score-12)\n",
    "#                 if score <= 21:\n",
    "#                     self.returns[has_ace][showing-1][score-12] += reward\n",
    "#             print(sum(rewards) / self.N)\n",
    "        print(rewards)"
   ]
  },
  {
   "cell_type": "code",
   "execution_count": 339,
   "metadata": {},
   "outputs": [
    {
     "name": "stdout",
     "output_type": "stream",
     "text": [
      "[[0, 0, 0, 0, 0, 0, 0, 0, 0, 0, 0, 0, 0, 0, 0, 0, 0, 0, 0, 0, 589, 0, 0, 0, 0, 0, 0, 0, 0, 0, 0], [0, 0, 0, 0, 0, 0, 0, 0, 0, 0, 0, 0, 0, 0, 0, 0, 0, 0, 0, 0, 589, 0, 0, 0, 0, 0, 0, 0, 0, 0, 0], [0, 0, 0, 0, 0, 0, 0, 0, 0, 0, 0, 0, 0, 0, 0, 0, 0, 0, 0, 0, 589, 0, 0, 0, 0, 0, 0, 0, 0, 0, 0], [0, 0, 0, 0, 0, 0, 0, 0, 0, 0, 0, 0, 0, 0, 0, 0, 0, 0, 0, 0, 589, 0, 0, 0, 0, 0, 0, 0, 0, 0, 0], [0, 0, 0, 0, 0, 0, 0, 0, 0, 0, 0, 0, 0, 0, 0, 0, 0, 0, 0, 0, 589, 0, 0, 0, 0, 0, 0, 0, 0, 0, 0], [0, 0, 0, 0, 0, 0, 0, 0, 0, 0, 0, 0, 0, 0, 0, 0, 0, 0, 0, 0, 589, 0, 0, 0, 0, 0, 0, 0, 0, 0, 0], [0, 0, 0, 0, 0, 0, 0, 0, 0, 0, 0, 0, 0, 0, 0, 0, 0, 0, 0, 0, 589, 0, 0, 0, 0, 0, 0, 0, 0, 0, 0], [0, 0, 0, 0, 0, 0, 0, 0, 0, 0, 0, 0, 0, 0, 0, 0, 0, 0, 0, 0, 589, 0, 0, 0, 0, 0, 0, 0, 0, 0, 0], [0, 0, 0, 0, 0, 0, 0, 0, 0, 0, 0, 0, 0, 0, 0, 0, 0, 0, 0, 0, 589, 0, 0, 0, 0, 0, 0, 0, 0, 0, 0], [0, 0, 0, 0, 0, 0, 0, 0, 0, 0, 0, 0, 0, 0, 0, 0, 0, 0, 0, 0, 589, 0, 0, 0, 0, 0, 0, 0, 0, 0, 0]]\n"
     ]
    }
   ],
   "source": [
    "blackjack = BlackJack(1000)\n",
    "blackjack.simulate()"
   ]
  }
 ],
 "metadata": {
  "kernelspec": {
   "display_name": "Python 3",
   "language": "python",
   "name": "python3"
  },
  "language_info": {
   "codemirror_mode": {
    "name": "ipython",
    "version": 3
   },
   "file_extension": ".py",
   "mimetype": "text/x-python",
   "name": "python",
   "nbconvert_exporter": "python",
   "pygments_lexer": "ipython3",
   "version": "3.6.1"
  }
 },
 "nbformat": 4,
 "nbformat_minor": 2
}
