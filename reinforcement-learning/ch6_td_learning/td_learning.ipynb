{
 "cells": [
  {
   "cell_type": "code",
   "execution_count": 30,
   "metadata": {},
   "outputs": [],
   "source": [
    "import numpy as np\n",
    "import matplotlib.pyplot as plt\n",
    "%matplotlib inline\n",
    "import gym\n"
   ]
  },
  {
   "cell_type": "markdown",
   "metadata": {},
   "source": [
    "# Helper functions"
   ]
  },
  {
   "cell_type": "code",
   "execution_count": 34,
   "metadata": {},
   "outputs": [],
   "source": [
    "def running_mean(x, N):\n",
    "    \"\"\"\n",
    "    https://stackoverflow.com/questions/13728392/moving-average-or-running-mean\n",
    "    \"\"\"\n",
    "    cumsum = np.cumsum(np.insert(x, 0, 0)) \n",
    "    return (cumsum[N:] - cumsum[:-N]) / float(N)\n",
    "\n"
   ]
  },
  {
   "cell_type": "markdown",
   "metadata": {},
   "source": [
    "# Q-learning"
   ]
  },
  {
   "cell_type": "code",
   "execution_count": 70,
   "metadata": {},
   "outputs": [
    {
     "name": "stdout",
     "output_type": "stream",
     "text": [
      "38\n",
      "[0, 1, 2, 3, 4, 5, 6, 7, 8, 9, 10, 11, 12, 13, 14, 15, 16, 17, 18, 19, 20, 21, 22, 23, 24, 25, 26, 27, 28, 29, 30, 31, 32, 33, 34, 35, 36, 47]\n"
     ]
    }
   ],
   "source": [
    "env = gym.make(\"CliffWalking-v0\")\n",
    "n_actions = env.action_space.n\n",
    "state_dim = env.observation_space.n\n",
    "qtable = np.zeros((state_dim, n_actions))\n",
    "\n",
    "gamma = 0.90\n",
    "epsilon = 0.9\n",
    "learning_rate = 0.8\n",
    "\n",
    "total_episodes = 500\n",
    "rewards = []\n",
    "states_visited = []\n",
    "\n",
    "for episode in range(total_episodes):\n",
    "    state = env.reset()\n",
    "    done = False\n",
    "    total_reward = 0\n",
    "    if state not in states_visited:\n",
    "        states_visited.append(state)\n",
    "\n",
    "    \n",
    "    while not done:\n",
    "        # choose action\n",
    "        if np.random.uniform(0,1) > epsilon:\n",
    "            action = np.argmax(qtable[state, :])\n",
    "        else:\n",
    "            action = env.action_space.sample()\n",
    "        # take step\n",
    "        next_state, reward, done, info = env.step(action)\n",
    "        \n",
    "        # update q values\n",
    "        qtable[state, action] += learning_rate * (reward + gamma * np.max(qtable[next_state, :]) - qtable[state, action])\n",
    "        \n",
    "        # update rewards\n",
    "        total_reward += reward\n",
    "        \n",
    "\n",
    "        state = next_state\n",
    "        if state not in states_visited:\n",
    "            states_visited.append(state)\n",
    "\n",
    "\n",
    "    rewards.append(total_reward)\n",
    "\n",
    "q_rewards = running_mean(rewards, 10)\n",
    "print(len(states_visited))\n",
    "states_visited.sort()\n",
    "print(states_visited)"
   ]
  },
  {
   "cell_type": "markdown",
   "metadata": {},
   "source": [
    "# Sarsa"
   ]
  },
  {
   "cell_type": "code",
   "execution_count": 73,
   "metadata": {},
   "outputs": [
    {
     "name": "stdout",
     "output_type": "stream",
     "text": [
      "38\n",
      "[0, 1, 2, 3, 4, 5, 6, 7, 8, 9, 10, 11, 12, 13, 14, 15, 16, 17, 18, 19, 20, 21, 22, 23, 24, 25, 26, 27, 28, 29, 30, 31, 32, 33, 34, 35, 36, 47]\n"
     ]
    }
   ],
   "source": [
    "env = gym.make(\"CliffWalking-v0\")\n",
    "n_actions = env.action_space.n\n",
    "state_dim = env.observation_space.n\n",
    "qtable = np.zeros((state_dim, n_actions))\n",
    "\n",
    "gamma = 0.95\n",
    "epsilon = 0.1\n",
    "learning_rate = 0.8\n",
    "\n",
    "total_episodes = 500\n",
    "rewards = []\n",
    "\n",
    "for episode in range(total_episodes):\n",
    "    state = env.reset()\n",
    "    done = False\n",
    "    total_reward = 0\n",
    "\n",
    "    if state not in states_visited:\n",
    "        states_visited.append(state)\n",
    "    \n",
    "    if np.random.uniform(0,1) > epsilon:\n",
    "        action = np.argmax(qtable[state, :])\n",
    "    else:\n",
    "        action = env.action_space.sample()\n",
    "    \n",
    "    while not done:\n",
    "\n",
    "        next_state, reward, done, info = env.step(action)\n",
    "        \n",
    "        if np.random.uniform(0,1) > epsilon:\n",
    "            next_action = np.argmax(qtable[next_state, :])\n",
    "        else:\n",
    "            next_action = env.action_space.sample()\n",
    "        \n",
    "        qtable[state, action] += learning_rate * (reward + gamma * qtable[next_state, next_action] - qtable[state, action])\n",
    "        \n",
    "        total_reward += reward\n",
    "        \n",
    "        state = next_state\n",
    "        action = next_action\n",
    "        \n",
    "        if state not in states_visited:\n",
    "            states_visited.append(state)\n",
    "        \n",
    "    rewards.append(total_reward)\n",
    "\n",
    "sarsa_rewards = running_mean(rewards, 10)\n",
    "print(len(states_visited))\n",
    "states_visited.sort()\n",
    "print(states_visited)"
   ]
  },
  {
   "cell_type": "markdown",
   "metadata": {},
   "source": [
    "# Expected Sarsa"
   ]
  },
  {
   "cell_type": "code",
   "execution_count": null,
   "metadata": {},
   "outputs": [],
   "source": [
    "env = gym.make(\"CliffWalking-v0\")\n",
    "n_actions = env.action_space.n\n",
    "state_dim = env.observation_space.n\n",
    "qtable = np.zeros((state_dim, n_actions))\n",
    "\n",
    "gamma = 0.99\n",
    "epsilon = 0.1\n",
    "learning_rate = 0.8\n",
    "\n",
    "total_episodes = 500\n",
    "rewards = []\n",
    "\n",
    "for episode in range(total_episodes):\n",
    "    state = env.reset()\n",
    "    done = False\n",
    "    total_reward = 0\n",
    "\n",
    "    if np.random.uniform(0,1) > epsilon:\n",
    "        action = np.argmax(qtable[state, :])\n",
    "    else:\n",
    "        action = env.action_space.sample()\n",
    "    \n",
    "    while not done:\n",
    "        next_state, reward, done, info = env.step(action)\n",
    "        \n",
    "        if np.random.uniform(0,1) > epsilon:\n",
    "            next_action = np.argmax(qtable[next_state, :])\n",
    "        else:\n",
    "            next_action = env.action_space.sample()\n",
    "        \n",
    "        qtable[state, action] += learning_rate * (reward + gamma * qtable[next_state, next_action] - qtable[state, action])\n",
    "        \n",
    "        total_reward += reward\n",
    "        \n",
    "        state = next_state\n",
    "        action = next_action\n",
    "        \n",
    "    rewards.append(total_reward)\n",
    "\n",
    "sarsa_rewards = running_mean(rewards, 10)"
   ]
  },
  {
   "cell_type": "markdown",
   "metadata": {},
   "source": [
    "# Double Q-learning"
   ]
  },
  {
   "cell_type": "code",
   "execution_count": null,
   "metadata": {},
   "outputs": [],
   "source": [
    "env = gym.make(\"CliffWalking-v0\")\n",
    "n_actions = env.action_space.n\n",
    "state_dim = env.observation_space.n\n",
    "qtable1 = np.zeros((state_dim, n_actions))\n",
    "qtable2 = np.zeros((state_dim, n_actions))\n",
    "\n",
    "gamma = 0.95\n",
    "epsilon = 0.1\n",
    "learning_rate = 0.8\n",
    "\n",
    "total_episodes = 500\n",
    "rewards = []\n",
    "states_visited = []\n",
    "\n",
    "for episode in range(total_episodes):\n",
    "    state = env.reset()\n",
    "    done = False\n",
    "    total_reward = 0\n",
    "    if state not in states_visited:\n",
    "        states_visited.append(state)\n",
    "    while not done:\n",
    "        if np.random.uniform(0,1) > epsilon:\n",
    "            avg_q = (qtable1 + qtable2)/2\n",
    "            action = np.argmax(avg_q[state, :])\n",
    "        else:\n",
    "            action = env.action_space.sample()\n",
    "        \n",
    "        next_state, reward, done, info = env.step(action)\n",
    "        \n",
    "        if np.random.uniform(0, 1) > 0.5:\n",
    "            a = np.argmax(qtable1[next_state, :])\n",
    "            qtable1[state, action] += learning_rate * (reward + gamma * qtable2[next_state, a] - qtable1[state, action])\n",
    "        else:\n",
    "            a = np.argmax(qtable2[next_state, :])\n",
    "            qtable2[state, action] += learning_rate * (reward + gamma * qtable1[next_state, a] - qtable2[state, action])\n",
    "            \n",
    "        total_reward += reward\n",
    "        \n",
    "        state = next_state     \n",
    "        if state not in states_visited:\n",
    "            states_visited.append(state)\n",
    "\n",
    "    rewards.append(total_reward)\n",
    "\n",
    "double_q_rewards = running_mean(rewards, 10)\n",
    "print(len(states_visited))\n",
    "states_visited.sort()\n",
    "print(states_visited)"
   ]
  },
  {
   "cell_type": "markdown",
   "metadata": {},
   "source": [
    "# Double Sarsa"
   ]
  },
  {
   "cell_type": "markdown",
   "metadata": {},
   "source": [
    "# Double Expected Sarsa"
   ]
  }
 ],
 "metadata": {
  "kernelspec": {
   "display_name": "Python 3",
   "language": "python",
   "name": "python3"
  },
  "language_info": {
   "codemirror_mode": {
    "name": "ipython",
    "version": 3
   },
   "file_extension": ".py",
   "mimetype": "text/x-python",
   "name": "python",
   "nbconvert_exporter": "python",
   "pygments_lexer": "ipython3",
   "version": "3.6.6"
  }
 },
 "nbformat": 4,
 "nbformat_minor": 2
}
